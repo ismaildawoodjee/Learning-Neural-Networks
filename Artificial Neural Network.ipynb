{
 "cells": [
  {
   "cell_type": "code",
   "execution_count": 15,
   "metadata": {},
   "outputs": [],
   "source": [
    "import __future__\n",
    "import numpy as np\n",
    "import tensorflow as tf\n",
    "from tensorflow.examples.tutorials.mnist import input_data\n",
    "from numpy import random\n",
    "import matplotlib.pyplot as plt\n",
    "%matplotlib inline"
   ]
  },
  {
   "cell_type": "code",
   "execution_count": 2,
   "metadata": {},
   "outputs": [],
   "source": [
    "def sig(z):\n",
    "    \"\"\"Sigmoid function.\"\"\"\n",
    "    return (1.0 / (1.0 + np.exp(-z)))\n",
    "\n",
    "def d_sig(z):\n",
    "    \"\"\"First derivative of the sigmoid function.\"\"\"\n",
    "    return (sig(z) * (1 - sig(z)))\n",
    "\n",
    "def inv_sig(x):\n",
    "    \"\"\"Inverse of the sigmoid function.\"\"\"\n",
    "    return np.array([np.log(1 / (1/xi - 1)) for xi in x])"
   ]
  },
  {
   "cell_type": "code",
   "execution_count": 3,
   "metadata": {},
   "outputs": [],
   "source": [
    "def lin(z):\n",
    "    \"\"\"Linear function.\"\"\"\n",
    "    return (z)\n",
    "\n",
    "def d_lin(z):\n",
    "    \"\"\"First derivative of the linear function.\"\"\"\n",
    "    return(1)\n",
    "\n",
    "def inv_lin(x):\n",
    "    \"\"\"Inverse of the linear function.\"\"\"\n",
    "    return (x)"
   ]
  },
  {
   "cell_type": "code",
   "execution_count": 4,
   "metadata": {},
   "outputs": [],
   "source": [
    "def lrelu(z, leak = 0.01):\n",
    "    \"\"\"Leaky rectified linear unit (leaky ReLU).\"\"\"\n",
    "    z[z < 0] *= leak\n",
    "    return(z)\n",
    "\n",
    "def d_lrelu(z, leak = 0.01):\n",
    "    \"\"\"First derivative of the leaky ReLU function,\n",
    "    which can be represented by the Heaviside step function.\"\"\"\n",
    "    z[z >= 0] = 1\n",
    "    z[z < 0] = leak\n",
    "    return(z)\n",
    "\n",
    "def inv_lrelu(x, leak = 0.01):\n",
    "    \"\"\"Inverse of the leaky ReLU function.\"\"\" \n",
    "    x[x < 0] *= 1/leak\n",
    "    return(x)"
   ]
  },
  {
   "cell_type": "code",
   "execution_count": 73,
   "metadata": {},
   "outputs": [],
   "source": [
    "class ArtificialNeuralNetwork(object):\n",
    "    \"\"\"An artificial neural network.\"\"\"\n",
    "    \n",
    "    def __init__(self, layers, cross_entropy = False, act = sig, d_act = d_sig, inv_act = inv_sig):\n",
    "        \"\"\"Initialize the ANN class by randomizing all the\n",
    "        weights and biases in the network.\n",
    "        \n",
    "        `layers`: (list) list whose elements are the number of neurons in each\n",
    "        layer; (list of integers)\n",
    "        \n",
    "        `num_layers`: (integer) number of layers in the network including \n",
    "        input layer, given by the length of `layers` list.\n",
    "        \n",
    "        `biases`: (list) list of column vectors containing randomized biases.\n",
    "        No biases for the 0th (input) layer; (list of arrays)\n",
    "        \n",
    "        `weights`: (list) list of matrices containing randomized weights.\n",
    "        The matrix dimensions are (ml, ml_1), where ml is the number of \n",
    "        neurons in the next/terminal layer and ml_1 (em el minus one) is the \n",
    "        number of neurons in the previous/initial layer; (list of arrays)\"\"\"\n",
    "        \n",
    "        self.layers = layers\n",
    "        self.num_layers = len(layers)\n",
    "        self.biases = [random.randn(ml, 1) for ml in layers[1:]]  \n",
    "        self.weights = [random.randn(ml, ml_1)/np.sqrt(ml_1)\n",
    "                        for (ml, ml_1) in zip(layers[1:], layers[:-1])]  # implemented weight initialization\n",
    "        self.cross_entropy = cross_entropy\n",
    "        self.act = act\n",
    "        self.d_act = d_act\n",
    "        self.inv_act = inv_act\n",
    "    \n",
    "    \n",
    "    def feedforward(self, x):\n",
    "        \"\"\"Secondly, define the input values and feed them forward. This\n",
    "        function returns the activation values and weighted inputs of the \n",
    "        next layer given the weighted input values of the previous layer,\n",
    "        which is `x`. Done by using the sigmoid activation function.\n",
    "        \n",
    "        `x`: (array) input values of the first layer.\"\"\"\n",
    "        \n",
    "        weighted_inputs = []\n",
    "        activations = [x]\n",
    "        \n",
    "        for (b, w) in zip(self.biases, self.weights):\n",
    "            z = np.dot(w, x) + b\n",
    "            x = self.act(z)\n",
    "            weighted_inputs.append(z)\n",
    "            activations.append(x)\n",
    "            \n",
    "        return (weighted_inputs, activations)\n",
    "    \n",
    "    \n",
    "    def cost_derivative(self, xL, y):\n",
    "        \"\"\"After feeding forward, we will have activation values of all\n",
    "        the layers. This function returns the derivative of the cost \n",
    "        function with respect to the output activation in the last layer. \n",
    "        \n",
    "        `xL`: (array) should ONLY be activation values of the last layer.\n",
    "        \n",
    "        `y`: (array) target output values.\"\"\"\n",
    "        \n",
    "        #if self.cross_entropy:\n",
    "        #    return ((xL - y) / (xL*(1 - xL)))\n",
    "        #else:\n",
    "        return (xL - y)\n",
    "    \n",
    "    \n",
    "    def backpropagate(self, x, y):\n",
    "        \"\"\"Using the weighted inputs and activation values from feeding \n",
    "        forward, we now backpropagate the errors from each layer, starting\n",
    "        from the last layer. After the errors are backpropagated, the \n",
    "        gradients of cost with respect to each weight and bias is computed.\n",
    "        The function then returns the two lists of gradients as a tuple.\n",
    "        \n",
    "        `x`: (array) input values of the first layer.\n",
    "        \n",
    "        `y`: (array) target output values.\"\"\"\n",
    "        \n",
    "        (Z, X) = self.feedforward(x)\n",
    "        L = self.num_layers - 1  # python's index of the last layer, first layer is 0th layer\n",
    "        gradients_b = [np.zeros(b.shape) for b in self.biases]\n",
    "        gradients_w = [np.zeros(w.shape) for w in self.biases]\n",
    "        \n",
    "        grad_xL = self.cost_derivative(X[L], y)\n",
    "        \n",
    "        if self.cross_entropy:\n",
    "            delta_l = grad_xL\n",
    "        else:\n",
    "            dsig_zL = self.d_act(Z[L-1])\n",
    "            delta_l = grad_xL * dsig_zL # compute output error ; numpy multiplication is elementwise\n",
    "            \n",
    "        grad_wL = np.dot(delta_l, X[L-1].transpose())\n",
    "        \n",
    "        gradients_b[L-1] = delta_l\n",
    "        gradients_w[L-1] = grad_wL\n",
    "        \n",
    "        for l in range(L-1,0,-1): # backpropagate the error, starting from the second last layer\n",
    "            \n",
    "            dsig_zl = self.d_act(Z[l-1])\n",
    "            delta_l = np.dot(self.weights[l].transpose(), delta_l) * dsig_zl    \n",
    "            grad_wl = np.dot(delta_l, X[l-1].transpose())\n",
    "            \n",
    "            gradients_b[l-1] = delta_l\n",
    "            gradients_w[l-1] = grad_wl\n",
    "        \n",
    "        return(gradients_b, gradients_w)\n",
    "    \n",
    "    \n",
    "    def SGD(self, mini_batch, alpha, lmbda, n):\n",
    "        \"\"\"Using the gradients calculated from the backpropagation problem,\n",
    "        we apply one step of the stochastic gradient descent algorithm to a\n",
    "        single mini-batch of data.\n",
    "        \n",
    "        `mini_batch`: (list of tuples)\n",
    "        \n",
    "        `alpha`: (integer) learning rate.\"\"\"\n",
    "        \n",
    "        grad_b_sum = [np.zeros(b.shape) for b in self.biases]\n",
    "        grad_w_sum = [np.zeros(w.shape) for w in self.weights]\n",
    "        \n",
    "        for (qx, qy) in mini_batch:  # here, a matrix-based approach can be taken\n",
    "            (grad_bq, grad_wq) = self.backpropagate(qx, qy)\n",
    "            grad_b_sum = [gb + gbq for (gb, gbq) in zip(grad_b_sum, grad_bq)]\n",
    "            grad_w_sum = [gw + gwq for (gw, gwq) in zip(grad_w_sum, grad_wq)]\n",
    "           \n",
    "        new_biases = [b - (alpha / len(mini_batch)) * gbs  \n",
    "                      for (b, gbs) in zip(self.biases, grad_b_sum)]\n",
    "        new_weights = [(1 - alpha*lmbda/n)*w - (alpha / len(mini_batch)) * gws\n",
    "                       for (w, gws) in zip(self.weights, grad_w_sum)]\n",
    "        \n",
    "        self.biases = new_biases\n",
    "        self.weights = new_weights\n",
    "        \n",
    "        return([new_biases, new_weights])\n",
    "        \n",
    "        \n",
    "    def evaluate(self, test):\n",
    "        \"\"\"Return the number of test inputs for which the neural network\n",
    "        outputs the correct result. The neural network's output is \n",
    "        calculated by taking the index of the neuron with the highest\n",
    "        activation value in the final layer.\n",
    "        \n",
    "        `test`: (list of tuples)\"\"\"\n",
    "        \n",
    "        test_results = [(self.feedforward(x)[1][-1], \n",
    "                         np.argmax(y)) for (x, y) in test]\n",
    "    \n",
    "        return (sum(int(np.argmax(xL) == yi) \n",
    "                    for (xL, yi) in test_results))\n",
    "    \n",
    "    \n",
    "    def track_progress(self, train, mini_batch_size, alpha, epochs,\n",
    "                       lmbda, test = None):\n",
    "        \"\"\"applies SGD over all batches and epochs\n",
    "        \n",
    "        `train`: (list of tuples)\n",
    "        \n",
    "        `mini_batch_size`: (integer)\n",
    "        \n",
    "        `alpha`: (integer)\n",
    "        \n",
    "        `epochs`: (integer)\n",
    "        \n",
    "        `test`: (list of tuples).\"\"\"\n",
    "        \n",
    "        wei = []\n",
    "        bia = []\n",
    "        if test: n_test = len(test)\n",
    "        n = len(train)\n",
    "        \n",
    "        for j in range(epochs):  # change here to implement matrix-based approach\n",
    "            random.shuffle(train)\n",
    "            #random.shuffle(test)\n",
    "            mini_batches = [train[k:k+mini_batch_size]\n",
    "                            for k in range(0, n, mini_batch_size)]\n",
    "            for mini_batch in mini_batches:\n",
    "                sgd = self.SGD(mini_batch, alpha, lmbda, n)\n",
    "                bia = sgd[0]\n",
    "                wei = sgd[1]\n",
    "                \n",
    "            if test: # with %d(%g)%% confidence\"\n",
    "                print(\"Epoch %d: %d / %d\"  % (j+1,\n",
    "                      self.evaluate(test), n_test))\n",
    "                    #, self.evaluate(test)[1], self.evaluate(test)[2]))\n",
    "            else:\n",
    "                print(\"Epoch %d complete\" % (j+1,))\n",
    "        \n",
    "        return([bia, wei])\n",
    "            #display(self.evaluate(test)[1])\n",
    "    \n",
    "    \n",
    "    def collect_parameters(self, train, mini_batch_size, alpha, epochs, lmbda, test = None):\n",
    "        \n",
    "        \n",
    "        tp = self.track_progress(train, mini_batch_size, alpha, epochs,\n",
    "                       lmbda, test)\n",
    "        \n",
    "        self.bee = tp[0]\n",
    "        self.Wu = tp[1]\n",
    "        \n",
    "    \n",
    "    def write(self, number):\n",
    "        \n",
    "        \n",
    "        L = self.num_layers - 1  \n",
    "        condition = (np.arange(self.layers[-1]) == number)\n",
    "        y0 = (condition * 1.).reshape(self.layers[-1],1)\n",
    "        y = (condition * 1.).reshape(self.layers[-1],1)\n",
    "        \n",
    "        b = self.bee\n",
    "        W = self.Wu\n",
    "        \n",
    "        for k in range(L-1,-1,-1):\n",
    "            \n",
    "            z = self.inv_act(y)\n",
    "            inv_Wk = np.linalg.pinv(W[k])\n",
    "            y = np.matmul(inv_Wk, (z - b[k]))\n",
    "        \n",
    "        y = y.reshape((28, 28))\n",
    "        return(y)\n",
    "    "
   ]
  },
  {
   "cell_type": "code",
   "execution_count": 74,
   "metadata": {},
   "outputs": [],
   "source": [
    "# train scribe\n",
    "scribe = ArtificialNeuralNetwork([784, 100, 10], cross_entropy = True, act = lrelu, d_act = d_lrelu, inv_act = inv_lrelu)"
   ]
  },
  {
   "cell_type": "code",
   "execution_count": 75,
   "metadata": {
    "scrolled": true
   },
   "outputs": [
    {
     "name": "stdout",
     "output_type": "stream",
     "text": [
      "Epoch 1: 9527 / 10000\n",
      "Epoch 2: 9574 / 10000\n",
      "Epoch 3: 9629 / 10000\n",
      "Epoch 4: 9668 / 10000\n",
      "Epoch 5: 9688 / 10000\n",
      "Epoch 6: 9704 / 10000\n",
      "Epoch 7: 9705 / 10000\n",
      "Epoch 8: 9728 / 10000\n",
      "Epoch 9: 9731 / 10000\n",
      "Epoch 10: 9737 / 10000\n",
      "Epoch 11: 9739 / 10000\n",
      "Epoch 12: 9753 / 10000\n",
      "Epoch 13: 9738 / 10000\n",
      "Epoch 14: 9747 / 10000\n",
      "Epoch 15: 9757 / 10000\n",
      "Epoch 16: 9754 / 10000\n",
      "Epoch 17: 9757 / 10000\n",
      "Epoch 18: 9770 / 10000\n",
      "Epoch 19: 9756 / 10000\n",
      "Epoch 20: 9743 / 10000\n",
      "Epoch 21: 9764 / 10000\n",
      "Epoch 22: 9746 / 10000\n",
      "Epoch 23: 9764 / 10000\n",
      "Epoch 24: 9786 / 10000\n",
      "Epoch 25: 9775 / 10000\n",
      "Epoch 26: 9772 / 10000\n",
      "Epoch 27: 9765 / 10000\n",
      "Epoch 28: 9754 / 10000\n",
      "Epoch 29: 9756 / 10000\n",
      "Epoch 30: 9774 / 10000\n"
     ]
    }
   ],
   "source": [
    "scribe.collect_parameters(train = mnist_train, mini_batch_size = 10, alpha = 0.1, epochs = 30, lmbda = 5.0, test = mnist_test)"
   ]
  },
  {
   "cell_type": "code",
   "execution_count": 99,
   "metadata": {},
   "outputs": [],
   "source": []
  },
  {
   "cell_type": "code",
   "execution_count": 110,
   "metadata": {},
   "outputs": [
    {
     "data": {
      "text/plain": [
       "<matplotlib.image.AxesImage at 0x235928550f0>"
      ]
     },
     "execution_count": 110,
     "metadata": {},
     "output_type": "execute_result"
    },
    {
     "data": {
      "image/png": "[encoded data removed]",
      "text/plain": [
       "<Figure size 432x288 with 1 Axes>"
      ]
     },
     "metadata": {},
     "output_type": "display_data"
    }
   ],
   "source": [
    "n = 0\n",
    "plt.imshow((scribe.write(number = n) - np.mean(scribe.write(number = n))) / np.std(scribe.write(number = n)))"
   ]
  },
  {
   "cell_type": "code",
   "execution_count": 347,
   "metadata": {},
   "outputs": [],
   "source": [
    "ann = ArtificialNeuralNetwork([3,4,10], cross_entropy = True, act = lin, d_act = d_lin, inv_act = inv_lin)"
   ]
  },
  {
   "cell_type": "code",
   "execution_count": 348,
   "metadata": {},
   "outputs": [
    {
     "data": {
      "text/plain": [
       "array([[  1.68416171],\n",
       "       [-21.42131728],\n",
       "       [ -5.68693583]])"
      ]
     },
     "execution_count": 348,
     "metadata": {},
     "output_type": "execute_result"
    }
   ],
   "source": [
    "ann.write(number = 1)"
   ]
  },
  {
   "cell_type": "code",
   "execution_count": 13,
   "metadata": {},
   "outputs": [
    {
     "data": {
      "text/plain": [
       "[array([[-0.90810384],\n",
       "        [-0.49645192],\n",
       "        [ 0.26527173],\n",
       "        [ 0.45500425]]), array([[-0.38368716],\n",
       "        [-0.99846356]])]"
      ]
     },
     "execution_count": 13,
     "metadata": {},
     "output_type": "execute_result"
    }
   ],
   "source": [
    "ann.biases"
   ]
  },
  {
   "cell_type": "code",
   "execution_count": 14,
   "metadata": {},
   "outputs": [
    {
     "data": {
      "text/plain": [
       "[array([[-0.65924387,  0.36517461,  1.13463437],\n",
       "        [-1.09100389, -0.51929066, -0.02437729],\n",
       "        [-0.14103196,  0.35366232, -0.24706775],\n",
       "        [ 0.25404798, -0.48978494, -0.39120683]]),\n",
       " array([[-0.06468083,  0.19356078,  0.51588592, -0.07810771],\n",
       "        [ 1.01984022, -0.70366111, -0.23453442,  0.85547845]])]"
      ]
     },
     "execution_count": 14,
     "metadata": {},
     "output_type": "execute_result"
    }
   ],
   "source": [
    "ann.weights"
   ]
  },
  {
   "cell_type": "code",
   "execution_count": null,
   "metadata": {},
   "outputs": [],
   "source": []
  },
  {
   "cell_type": "code",
   "execution_count": null,
   "metadata": {},
   "outputs": [],
   "source": []
  },
  {
   "cell_type": "code",
   "execution_count": null,
   "metadata": {},
   "outputs": [],
   "source": []
  },
  {
   "cell_type": "code",
   "execution_count": null,
   "metadata": {},
   "outputs": [],
   "source": []
  },
  {
   "cell_type": "code",
   "execution_count": 3,
   "metadata": {},
   "outputs": [],
   "source": [
    "layers = [2, 8, 2]"
   ]
  },
  {
   "cell_type": "code",
   "execution_count": 4,
   "metadata": {},
   "outputs": [],
   "source": [
    "annlogic = ArtificialNeuralNetwork(layers)"
   ]
  },
  {
   "cell_type": "code",
   "execution_count": 6,
   "metadata": {},
   "outputs": [],
   "source": [
    "and_inp = [(np.array([[0],[0]]), np.array([[1],[0]])),\n",
    "           (np.array([[0],[1]]), np.array([[0],[1]])),\n",
    "           (np.array([[1],[0]]), np.array([[0],[1]])),\n",
    "           (np.array([[1],[1]]), np.array([[1],[0]]))]"
   ]
  },
  {
   "cell_type": "code",
   "execution_count": 7,
   "metadata": {},
   "outputs": [],
   "source": [
    "train_data = list()"
   ]
  },
  {
   "cell_type": "code",
   "execution_count": 8,
   "metadata": {},
   "outputs": [],
   "source": [
    "test_data = list()"
   ]
  },
  {
   "cell_type": "code",
   "execution_count": 9,
   "metadata": {},
   "outputs": [],
   "source": [
    "validation_data = list()"
   ]
  },
  {
   "cell_type": "code",
   "execution_count": 11,
   "metadata": {},
   "outputs": [],
   "source": [
    "for j in range(80):\n",
    "    for inp in and_inp:\n",
    "        new_tup = tuple(inp)\n",
    "        train_data.append(new_tup)"
   ]
  },
  {
   "cell_type": "code",
   "execution_count": 12,
   "metadata": {},
   "outputs": [
    {
     "data": {
      "text/plain": [
       "320"
      ]
     },
     "execution_count": 12,
     "metadata": {},
     "output_type": "execute_result"
    }
   ],
   "source": [
    "len(train_data)"
   ]
  },
  {
   "cell_type": "code",
   "execution_count": 13,
   "metadata": {},
   "outputs": [
    {
     "data": {
      "text/plain": [
       "80"
      ]
     },
     "execution_count": 13,
     "metadata": {},
     "output_type": "execute_result"
    }
   ],
   "source": [
    "len(test_data)"
   ]
  },
  {
   "cell_type": "code",
   "execution_count": 14,
   "metadata": {},
   "outputs": [
    {
     "data": {
      "text/plain": [
       "0"
      ]
     },
     "execution_count": 14,
     "metadata": {},
     "output_type": "execute_result"
    }
   ],
   "source": [
    "len(validation_data)"
   ]
  },
  {
   "cell_type": "code",
   "execution_count": 18,
   "metadata": {
    "scrolled": false
   },
   "outputs": [],
   "source": [
    "annlogic.track_progress(train = train_data, mini_batch_size = 2, alpha = 0.1, epochs = 100, test = test_data)"
   ]
  },
  {
   "cell_type": "code",
   "execution_count": null,
   "metadata": {},
   "outputs": [],
   "source": []
  },
  {
   "cell_type": "code",
   "execution_count": 9,
   "metadata": {},
   "outputs": [],
   "source": [
    "from tensorflow.examples.tutorials.mnist import input_data"
   ]
  },
  {
   "cell_type": "code",
   "execution_count": 10,
   "metadata": {},
   "outputs": [
    {
     "name": "stdout",
     "output_type": "stream",
     "text": [
      "WARNING:tensorflow:From <ipython-input-10-1a516c502833>:1: read_data_sets (from tensorflow.contrib.learn.python.learn.datasets.mnist) is deprecated and will be removed in a future version.\n",
      "Instructions for updating:\n",
      "Please use alternatives such as official/mnist/dataset.py from tensorflow/models.\n",
      "WARNING:tensorflow:From C:\\Anaconda3\\lib\\site-packages\\tensorflow\\contrib\\learn\\python\\learn\\datasets\\mnist.py:260: maybe_download (from tensorflow.contrib.learn.python.learn.datasets.base) is deprecated and will be removed in a future version.\n",
      "Instructions for updating:\n",
      "Please write your own downloading logic.\n",
      "WARNING:tensorflow:From C:\\Anaconda3\\lib\\site-packages\\tensorflow\\contrib\\learn\\python\\learn\\datasets\\mnist.py:262: extract_images (from tensorflow.contrib.learn.python.learn.datasets.mnist) is deprecated and will be removed in a future version.\n",
      "Instructions for updating:\n",
      "Please use tf.data to implement this functionality.\n",
      "Extracting MNIST_data/train-images-idx3-ubyte.gz\n",
      "WARNING:tensorflow:From C:\\Anaconda3\\lib\\site-packages\\tensorflow\\contrib\\learn\\python\\learn\\datasets\\mnist.py:267: extract_labels (from tensorflow.contrib.learn.python.learn.datasets.mnist) is deprecated and will be removed in a future version.\n",
      "Instructions for updating:\n",
      "Please use tf.data to implement this functionality.\n",
      "Extracting MNIST_data/train-labels-idx1-ubyte.gz\n",
      "WARNING:tensorflow:From C:\\Anaconda3\\lib\\site-packages\\tensorflow\\contrib\\learn\\python\\learn\\datasets\\mnist.py:110: dense_to_one_hot (from tensorflow.contrib.learn.python.learn.datasets.mnist) is deprecated and will be removed in a future version.\n",
      "Instructions for updating:\n",
      "Please use tf.one_hot on tensors.\n",
      "Extracting MNIST_data/t10k-images-idx3-ubyte.gz\n",
      "Extracting MNIST_data/t10k-labels-idx1-ubyte.gz\n",
      "WARNING:tensorflow:From C:\\Anaconda3\\lib\\site-packages\\tensorflow\\contrib\\learn\\python\\learn\\datasets\\mnist.py:290: DataSet.__init__ (from tensorflow.contrib.learn.python.learn.datasets.mnist) is deprecated and will be removed in a future version.\n",
      "Instructions for updating:\n",
      "Please use alternatives such as official/mnist/dataset.py from tensorflow/models.\n"
     ]
    }
   ],
   "source": [
    "mnist = input_data.read_data_sets(\"MNIST_data/\", one_hot = True)"
   ]
  },
  {
   "cell_type": "code",
   "execution_count": 24,
   "metadata": {},
   "outputs": [
    {
     "data": {
      "text/plain": [
       "tensorflow.contrib.learn.python.learn.datasets.base.Datasets"
      ]
     },
     "execution_count": 24,
     "metadata": {},
     "output_type": "execute_result"
    }
   ],
   "source": [
    "# special dataset type\n",
    "type(mnist)"
   ]
  },
  {
   "cell_type": "code",
   "execution_count": 25,
   "metadata": {},
   "outputs": [
    {
     "data": {
      "text/plain": [
       "array([[0., 0., 0., ..., 0., 0., 0.],\n",
       "       [0., 0., 0., ..., 0., 0., 0.],\n",
       "       [0., 0., 0., ..., 0., 0., 0.],\n",
       "       ...,\n",
       "       [0., 0., 0., ..., 0., 0., 0.],\n",
       "       [0., 0., 0., ..., 0., 0., 0.],\n",
       "       [0., 0., 0., ..., 0., 0., 0.]], dtype=float32)"
      ]
     },
     "execution_count": 25,
     "metadata": {},
     "output_type": "execute_result"
    }
   ],
   "source": [
    "mnist.train.images"
   ]
  },
  {
   "cell_type": "code",
   "execution_count": 29,
   "metadata": {},
   "outputs": [
    {
     "data": {
      "text/plain": [
       "(55000, 784)"
      ]
     },
     "execution_count": 29,
     "metadata": {},
     "output_type": "execute_result"
    }
   ],
   "source": [
    "# 55000 images and 784 pixels in each image\n",
    "# each image is places as a row\n",
    "mnist.train.images.shape"
   ]
  },
  {
   "cell_type": "code",
   "execution_count": 30,
   "metadata": {},
   "outputs": [
    {
     "data": {
      "text/plain": [
       "55000"
      ]
     },
     "execution_count": 30,
     "metadata": {},
     "output_type": "execute_result"
    }
   ],
   "source": [
    "mnist.train.num_examples"
   ]
  },
  {
   "cell_type": "code",
   "execution_count": 32,
   "metadata": {},
   "outputs": [
    {
     "data": {
      "text/plain": [
       "10000"
      ]
     },
     "execution_count": 32,
     "metadata": {},
     "output_type": "execute_result"
    }
   ],
   "source": [
    "# 10000 test examples\n",
    "mnist.test.num_examples"
   ]
  },
  {
   "cell_type": "code",
   "execution_count": 55,
   "metadata": {},
   "outputs": [],
   "source": [
    "# can understand images like this ; grab the 1st image and reshape into 28x28\n",
    "mnist.train.images[1].reshape((28,28))"
   ]
  },
  {
   "cell_type": "code",
   "execution_count": 52,
   "metadata": {},
   "outputs": [
    {
     "data": {
      "text/plain": [
       "<matplotlib.image.AxesImage at 0x288dda65c88>"
      ]
     },
     "execution_count": 52,
     "metadata": {},
     "output_type": "execute_result"
    },
    {
     "data": {
      "image/png": "[encoded data removed]",
      "text/plain": [
       "<Figure size 432x288 with 1 Axes>"
      ]
     },
     "metadata": {},
     "output_type": "display_data"
    }
   ],
   "source": [
    "# then call the imshow() method from matplotlib\n",
    "# and then change colormap into greyscale\n",
    "plt.imshow(mnist.train.images[1].reshape((28,28)), cmap = 'gist_gray')"
   ]
  },
  {
   "cell_type": "code",
   "execution_count": 53,
   "metadata": {},
   "outputs": [
    {
     "data": {
      "text/plain": [
       "numpy.ndarray"
      ]
     },
     "execution_count": 53,
     "metadata": {},
     "output_type": "execute_result"
    }
   ],
   "source": [
    "type(mnist.train.images)"
   ]
  },
  {
   "cell_type": "code",
   "execution_count": 57,
   "metadata": {},
   "outputs": [
    {
     "data": {
      "text/plain": [
       "(55000, 10)"
      ]
     },
     "execution_count": 57,
     "metadata": {},
     "output_type": "execute_result"
    }
   ],
   "source": [
    "mnist.train.labels.shape"
   ]
  },
  {
   "cell_type": "code",
   "execution_count": 58,
   "metadata": {},
   "outputs": [
    {
     "data": {
      "text/plain": [
       "(55000, 784)"
      ]
     },
     "execution_count": 58,
     "metadata": {},
     "output_type": "execute_result"
    }
   ],
   "source": [
    "mnist.train.images.shape"
   ]
  },
  {
   "cell_type": "code",
   "execution_count": 61,
   "metadata": {},
   "outputs": [
    {
     "data": {
      "text/plain": [
       "(10000, 784)"
      ]
     },
     "execution_count": 61,
     "metadata": {},
     "output_type": "execute_result"
    }
   ],
   "source": [
    "mnist.test.images.shape"
   ]
  },
  {
   "cell_type": "code",
   "execution_count": 62,
   "metadata": {},
   "outputs": [
    {
     "data": {
      "text/plain": [
       "(10000, 10)"
      ]
     },
     "execution_count": 62,
     "metadata": {},
     "output_type": "execute_result"
    }
   ],
   "source": [
    "mnist.test.labels.shape"
   ]
  },
  {
   "cell_type": "markdown",
   "metadata": {},
   "source": [
    "## process raw data into train and test lists of tuples"
   ]
  },
  {
   "cell_type": "code",
   "execution_count": 89,
   "metadata": {},
   "outputs": [],
   "source": [
    "a = np.array([[1,2,3],\n",
    "              [4,5,6],\n",
    "              [7,8,9],\n",
    "              [10,11,12],\n",
    "              [13,14,15]])\n",
    "b = np.array([[11,22],\n",
    "              [33,44],\n",
    "              [55,66],\n",
    "              [77,88],\n",
    "              [99,101]])"
   ]
  },
  {
   "cell_type": "code",
   "execution_count": 90,
   "metadata": {},
   "outputs": [
    {
     "data": {
      "text/plain": [
       "3"
      ]
     },
     "execution_count": 90,
     "metadata": {},
     "output_type": "execute_result"
    }
   ],
   "source": [
    "a.shape[1]"
   ]
  },
  {
   "cell_type": "code",
   "execution_count": 91,
   "metadata": {},
   "outputs": [],
   "source": [
    "emp_lis = []"
   ]
  },
  {
   "cell_type": "code",
   "execution_count": 92,
   "metadata": {},
   "outputs": [
    {
     "data": {
      "text/plain": [
       "[(array([[1],\n",
       "         [2],\n",
       "         [3]]), array([[11],\n",
       "         [22]])), (array([[4],\n",
       "         [5],\n",
       "         [6]]), array([[33],\n",
       "         [44]])), (array([[7],\n",
       "         [8],\n",
       "         [9]]), array([[55],\n",
       "         [66]])), (array([[10],\n",
       "         [11],\n",
       "         [12]]), array([[77],\n",
       "         [88]])), (array([[13],\n",
       "         [14],\n",
       "         [15]]), array([[ 99],\n",
       "         [101]]))]"
      ]
     },
     "execution_count": 92,
     "metadata": {},
     "output_type": "execute_result"
    }
   ],
   "source": [
    "for (ai,bi) in zip(a,b):\n",
    "    emp_lis.append((ai.reshape(3,1),\n",
    "                    bi.reshape(2,1)))\n",
    "emp_lis"
   ]
  },
  {
   "cell_type": "code",
   "execution_count": 11,
   "metadata": {},
   "outputs": [],
   "source": [
    "def process_data(data_inputs, data_labels):\n",
    "    \"\"\"Function to package data into a list of tuples\n",
    "    consisting of input data and target output arrays. \n",
    "    Returns a list of data tuples.\n",
    "    \n",
    "    `data_inputs`: (2D array)\n",
    "    \n",
    "    `data_labels`: (2D array).\"\"\"\n",
    "    \n",
    "    input_col = data_inputs.shape[1]\n",
    "    label_col = data_labels.shape[1]\n",
    "    data_list = []\n",
    "    \n",
    "    for (di,dl) in zip(data_inputs, data_labels):\n",
    "        data_list.append((di.reshape(input_col,1),\n",
    "                          dl.reshape(label_col,1)))\n",
    "    \n",
    "    return (data_list)"
   ]
  },
  {
   "cell_type": "markdown",
   "metadata": {},
   "source": [
    "### process training images"
   ]
  },
  {
   "cell_type": "code",
   "execution_count": 12,
   "metadata": {},
   "outputs": [],
   "source": [
    "train_images = mnist.train.images\n",
    "train_labels = mnist.train.labels\n",
    "\n",
    "mnist_train = process_data(train_images, train_labels)"
   ]
  },
  {
   "cell_type": "markdown",
   "metadata": {},
   "source": [
    "### process test images"
   ]
  },
  {
   "cell_type": "code",
   "execution_count": 13,
   "metadata": {},
   "outputs": [],
   "source": [
    "test_images = mnist.test.images\n",
    "test_labels = mnist.test.labels\n",
    "\n",
    "mnist_test = process_data(test_images, test_labels)"
   ]
  },
  {
   "cell_type": "markdown",
   "metadata": {},
   "source": [
    "### process validation images"
   ]
  },
  {
   "cell_type": "code",
   "execution_count": 14,
   "metadata": {},
   "outputs": [],
   "source": [
    "validation_images = mnist.validation.images\n",
    "validation_labels = mnist.validation.labels\n",
    "\n",
    "mnist_validation = process_data(validation_images, test_labels)"
   ]
  },
  {
   "cell_type": "markdown",
   "metadata": {},
   "source": [
    "### run the ANN"
   ]
  },
  {
   "cell_type": "code",
   "execution_count": 107,
   "metadata": {},
   "outputs": [],
   "source": [
    "ann_mnist = ArtificialNeuralNetwork([784, 30, 10])"
   ]
  },
  {
   "cell_type": "code",
   "execution_count": 108,
   "metadata": {
    "scrolled": true
   },
   "outputs": [
    {
     "name": "stdout",
     "output_type": "stream",
     "text": [
      "Epoch 0: 9113 / 10000\n",
      "Epoch 1: 9221 / 10000\n",
      "Epoch 2: 9330 / 10000\n",
      "Epoch 3: 9385 / 10000\n",
      "Epoch 4: 9410 / 10000\n",
      "Epoch 5: 9403 / 10000\n",
      "Epoch 6: 9429 / 10000\n",
      "Epoch 7: 9415 / 10000\n",
      "Epoch 8: 9445 / 10000\n",
      "Epoch 9: 9457 / 10000\n",
      "Epoch 10: 9448 / 10000\n",
      "Epoch 11: 9487 / 10000\n",
      "Epoch 12: 9457 / 10000\n",
      "Epoch 13: 9495 / 10000\n",
      "Epoch 14: 9470 / 10000\n",
      "Epoch 15: 9475 / 10000\n",
      "Epoch 16: 9470 / 10000\n",
      "Epoch 17: 9500 / 10000\n",
      "Epoch 18: 9496 / 10000\n",
      "Epoch 19: 9507 / 10000\n",
      "Epoch 20: 9490 / 10000\n",
      "Epoch 21: 9499 / 10000\n",
      "Epoch 22: 9491 / 10000\n",
      "Epoch 23: 9499 / 10000\n",
      "Epoch 24: 9511 / 10000\n",
      "Epoch 25: 9492 / 10000\n",
      "Epoch 26: 9485 / 10000\n",
      "Epoch 27: 9515 / 10000\n",
      "Epoch 28: 9486 / 10000\n",
      "Epoch 29: 9525 / 10000\n"
     ]
    }
   ],
   "source": [
    "ann_mnist.track_progress(train = mnist_train, mini_batch_size = 10, alpha = 3.0, epochs = 30, test = mnist_test)"
   ]
  },
  {
   "cell_type": "markdown",
   "metadata": {},
   "source": [
    "#### 1. peak accuracy 95.25% when run on a [784, 30, 10] network"
   ]
  },
  {
   "cell_type": "code",
   "execution_count": 109,
   "metadata": {},
   "outputs": [],
   "source": [
    "ann_mnist2 = ArtificialNeuralNetwork([784, 100, 10])"
   ]
  },
  {
   "cell_type": "code",
   "execution_count": 110,
   "metadata": {
    "scrolled": true
   },
   "outputs": [
    {
     "name": "stdout",
     "output_type": "stream",
     "text": [
      "Epoch 0: 6681 / 10000\n",
      "Epoch 1: 7504 / 10000\n",
      "Epoch 2: 8427 / 10000\n",
      "Epoch 3: 8490 / 10000\n",
      "Epoch 4: 8541 / 10000\n",
      "Epoch 5: 8591 / 10000\n",
      "Epoch 6: 8596 / 10000\n",
      "Epoch 7: 9521 / 10000\n",
      "Epoch 8: 9533 / 10000\n",
      "Epoch 9: 9584 / 10000\n",
      "Epoch 10: 9573 / 10000\n",
      "Epoch 11: 9601 / 10000\n",
      "Epoch 12: 9604 / 10000\n",
      "Epoch 13: 9625 / 10000\n",
      "Epoch 14: 9630 / 10000\n",
      "Epoch 15: 9634 / 10000\n",
      "Epoch 16: 9634 / 10000\n",
      "Epoch 17: 9640 / 10000\n",
      "Epoch 18: 9658 / 10000\n",
      "Epoch 19: 9654 / 10000\n",
      "Epoch 20: 9652 / 10000\n",
      "Epoch 21: 9655 / 10000\n",
      "Epoch 22: 9655 / 10000\n",
      "Epoch 23: 9661 / 10000\n",
      "Epoch 24: 9662 / 10000\n",
      "Epoch 25: 9666 / 10000\n",
      "Epoch 26: 9672 / 10000\n",
      "Epoch 27: 9678 / 10000\n",
      "Epoch 28: 9671 / 10000\n",
      "Epoch 29: 9673 / 10000\n"
     ]
    }
   ],
   "source": [
    "ann_mnist2.track_progress(train = mnist_train, mini_batch_size = 10, alpha = 3.0, epochs = 30, test = mnist_test)"
   ]
  },
  {
   "cell_type": "markdown",
   "metadata": {},
   "source": [
    "#### 2. peak accuracy 96.78% when run on a [784, 100, 10] network"
   ]
  },
  {
   "cell_type": "code",
   "execution_count": 111,
   "metadata": {},
   "outputs": [],
   "source": [
    "ann_mnist3 = ArtificialNeuralNetwork([784, 10])"
   ]
  },
  {
   "cell_type": "code",
   "execution_count": 112,
   "metadata": {
    "scrolled": true
   },
   "outputs": [
    {
     "name": "stdout",
     "output_type": "stream",
     "text": [
      "Epoch 0: 6444 / 10000\n",
      "Epoch 1: 7172 / 10000\n",
      "Epoch 2: 7221 / 10000\n",
      "Epoch 3: 7250 / 10000\n",
      "Epoch 4: 7219 / 10000\n",
      "Epoch 5: 7264 / 10000\n",
      "Epoch 6: 7262 / 10000\n",
      "Epoch 7: 7280 / 10000\n",
      "Epoch 8: 7272 / 10000\n",
      "Epoch 9: 7282 / 10000\n",
      "Epoch 10: 7269 / 10000\n",
      "Epoch 11: 7291 / 10000\n",
      "Epoch 12: 7270 / 10000\n",
      "Epoch 13: 7297 / 10000\n",
      "Epoch 14: 7285 / 10000\n",
      "Epoch 15: 7285 / 10000\n",
      "Epoch 16: 7273 / 10000\n",
      "Epoch 17: 7290 / 10000\n",
      "Epoch 18: 7277 / 10000\n",
      "Epoch 19: 7293 / 10000\n",
      "Epoch 20: 7287 / 10000\n",
      "Epoch 21: 7294 / 10000\n",
      "Epoch 22: 7299 / 10000\n",
      "Epoch 23: 7313 / 10000\n",
      "Epoch 24: 7272 / 10000\n",
      "Epoch 25: 7285 / 10000\n",
      "Epoch 26: 7281 / 10000\n",
      "Epoch 27: 7270 / 10000\n",
      "Epoch 28: 7289 / 10000\n",
      "Epoch 29: 7306 / 10000\n"
     ]
    }
   ],
   "source": [
    "ann_mnist3.track_progress(train = mnist_train, mini_batch_size = 10, alpha = 3.0, epochs = 30, test = mnist_test)"
   ]
  },
  {
   "cell_type": "markdown",
   "metadata": {},
   "source": [
    "#### 3. peak accuracy 73.13% when run on a [784, 10] network"
   ]
  },
  {
   "cell_type": "code",
   "execution_count": 116,
   "metadata": {},
   "outputs": [],
   "source": [
    "ann_mnist4 = ArtificialNeuralNetwork([784, 200, 150, 100, 10]) "
   ]
  },
  {
   "cell_type": "markdown",
   "metadata": {},
   "source": [
    "## WARNING: very long execution time, takes 2.5 min per epoch"
   ]
  },
  {
   "cell_type": "code",
   "execution_count": 117,
   "metadata": {
    "scrolled": true
   },
   "outputs": [
    {
     "name": "stdout",
     "output_type": "stream",
     "text": [
      "Epoch 0: 7191 / 10000\n",
      "Epoch 1: 7387 / 10000\n",
      "Epoch 2: 8529 / 10000\n",
      "Epoch 3: 8649 / 10000\n",
      "Epoch 4: 8579 / 10000\n",
      "Epoch 5: 8634 / 10000\n",
      "Epoch 6: 8727 / 10000\n",
      "Epoch 7: 8660 / 10000\n",
      "Epoch 8: 8797 / 10000\n",
      "Epoch 9: 9497 / 10000\n",
      "Epoch 10: 9523 / 10000\n",
      "Epoch 11: 9591 / 10000\n",
      "Epoch 12: 9565 / 10000\n",
      "Epoch 13: 9550 / 10000\n",
      "Epoch 14: 9605 / 10000\n",
      "Epoch 15: 9597 / 10000\n",
      "Epoch 16: 9628 / 10000\n",
      "Epoch 17: 9579 / 10000\n",
      "Epoch 18: 9662 / 10000\n",
      "Epoch 19: 9647 / 10000\n",
      "Epoch 20: 9646 / 10000\n",
      "Epoch 21: 9620 / 10000\n",
      "Epoch 22: 9636 / 10000\n",
      "Epoch 23: 9667 / 10000\n",
      "Epoch 24: 9640 / 10000\n",
      "Epoch 25: 9632 / 10000\n",
      "Epoch 26: 9644 / 10000\n",
      "Epoch 27: 9683 / 10000\n",
      "Epoch 28: 9661 / 10000\n",
      "Epoch 29: 9698 / 10000\n"
     ]
    }
   ],
   "source": [
    "ann_mnist4.track_progress(train = mnist_train, mini_batch_size = 10, alpha = 3.0, epochs = 30, test = mnist_test)"
   ]
  },
  {
   "cell_type": "markdown",
   "metadata": {},
   "source": [
    "#### 4. peak accuracy 96.98% when run on a [784, 200, 150, 100, 10] network"
   ]
  },
  {
   "cell_type": "markdown",
   "metadata": {},
   "source": [
    "For practical purposes, use a [784, 100, 10] network."
   ]
  },
  {
   "cell_type": "code",
   "execution_count": 118,
   "metadata": {},
   "outputs": [],
   "source": [
    "ann_mnist5 = ArtificialNeuralNetwork([784, 100, 10])"
   ]
  },
  {
   "cell_type": "code",
   "execution_count": 119,
   "metadata": {
    "scrolled": true
   },
   "outputs": [
    {
     "name": "stdout",
     "output_type": "stream",
     "text": [
      "Epoch 0: 5408 / 10000\n",
      "Epoch 1: 5619 / 10000\n",
      "Epoch 2: 5675 / 10000\n",
      "Epoch 3: 5716 / 10000\n",
      "Epoch 4: 5736 / 10000\n",
      "Epoch 5: 5742 / 10000\n",
      "Epoch 6: 5763 / 10000\n",
      "Epoch 7: 5774 / 10000\n",
      "Epoch 8: 5777 / 10000\n",
      "Epoch 9: 5783 / 10000\n",
      "Epoch 10: 5790 / 10000\n",
      "Epoch 11: 5793 / 10000\n",
      "Epoch 12: 5794 / 10000\n",
      "Epoch 13: 5801 / 10000\n",
      "Epoch 14: 5813 / 10000\n",
      "Epoch 15: 5807 / 10000\n",
      "Epoch 16: 5817 / 10000\n",
      "Epoch 17: 5900 / 10000\n",
      "Epoch 18: 6703 / 10000\n",
      "Epoch 19: 6718 / 10000\n",
      "Epoch 20: 6723 / 10000\n",
      "Epoch 21: 6722 / 10000\n",
      "Epoch 22: 6731 / 10000\n",
      "Epoch 23: 6719 / 10000\n",
      "Epoch 24: 6744 / 10000\n",
      "Epoch 25: 6744 / 10000\n",
      "Epoch 26: 6743 / 10000\n",
      "Epoch 27: 6758 / 10000\n",
      "Epoch 28: 6749 / 10000\n",
      "Epoch 29: 6748 / 10000\n"
     ]
    }
   ],
   "source": [
    "ann_mnist5.track_progress(train = mnist_train, mini_batch_size = 32, alpha = 3.0, epochs = 30, test = mnist_test)"
   ]
  },
  {
   "cell_type": "markdown",
   "metadata": {},
   "source": [
    "#### 5. peak accuracy 67.58% when run on a [784, 100, 10] network with a mini-batch size of 32"
   ]
  },
  {
   "cell_type": "markdown",
   "metadata": {},
   "source": [
    "Start using 1000 train images and validation data (instead of test data) of 5000 images to tune the hyperparameters."
   ]
  },
  {
   "cell_type": "code",
   "execution_count": null,
   "metadata": {},
   "outputs": [],
   "source": [
    "ann_mnist7 = ArtificialNeuralNetwork([784, 100, 10])"
   ]
  },
  {
   "cell_type": "code",
   "execution_count": null,
   "metadata": {
    "scrolled": true
   },
   "outputs": [
    {
     "name": "stdout",
     "output_type": "stream",
     "text": [
      "Epoch 0: 494 / 5000\n",
      "Epoch 1: 484 / 5000\n",
      "Epoch 2: 486 / 5000\n",
      "Epoch 3: 502 / 5000\n",
      "Epoch 4: 493 / 5000\n",
      "Epoch 5: 493 / 5000\n",
      "Epoch 6: 498 / 5000\n",
      "Epoch 7: 485 / 5000\n",
      "Epoch 8: 485 / 5000\n",
      "Epoch 9: 483 / 5000\n",
      "Epoch 10: 489 / 5000\n",
      "Epoch 11: 493 / 5000\n",
      "Epoch 12: 496 / 5000\n",
      "Epoch 13: 503 / 5000\n",
      "Epoch 14: 495 / 5000\n",
      "Epoch 15: 486 / 5000\n",
      "Epoch 16: 480 / 5000\n",
      "Epoch 17: 480 / 5000\n",
      "Epoch 18: 490 / 5000\n",
      "Epoch 19: 481 / 5000\n",
      "Epoch 20: 494 / 5000\n",
      "Epoch 21: 480 / 5000\n",
      "Epoch 22: 486 / 5000\n",
      "Epoch 23: 477 / 5000\n",
      "Epoch 24: 488 / 5000\n",
      "Epoch 25: 492 / 5000\n",
      "Epoch 26: 491 / 5000\n",
      "Epoch 27: 497 / 5000\n"
     ]
    }
   ],
   "source": [
    "ann_mnist6.track_progress(train = mnist_train, mini_batch_size = 10, alpha = 3.0, epochs = 30,\n",
    "                          test = mnist_validation)"
   ]
  },
  {
   "cell_type": "code",
   "execution_count": 22,
   "metadata": {},
   "outputs": [],
   "source": [
    "ann_mnist1 = ArtificialNeuralNetwork([784, 30, 10])"
   ]
  },
  {
   "cell_type": "code",
   "execution_count": 23,
   "metadata": {
    "scrolled": true
   },
   "outputs": [
    {
     "name": "stdout",
     "output_type": "stream",
     "text": [
      "Epoch 0: 9156 / 10000\n",
      "Epoch 1: 9175 / 10000\n",
      "Epoch 2: 9352 / 10000\n",
      "Epoch 3: 9341 / 10000\n",
      "Epoch 4: 9396 / 10000\n",
      "Epoch 5: 9416 / 10000\n",
      "Epoch 6: 9428 / 10000\n",
      "Epoch 7: 9434 / 10000\n",
      "Epoch 8: 9404 / 10000\n",
      "Epoch 9: 9449 / 10000\n",
      "Epoch 10: 9463 / 10000\n",
      "Epoch 11: 9512 / 10000\n",
      "Epoch 12: 9495 / 10000\n",
      "Epoch 13: 9487 / 10000\n",
      "Epoch 14: 9501 / 10000\n",
      "Epoch 15: 9495 / 10000\n",
      "Epoch 16: 9507 / 10000\n",
      "Epoch 17: 9510 / 10000\n",
      "Epoch 18: 9528 / 10000\n",
      "Epoch 19: 9509 / 10000\n",
      "Epoch 20: 9505 / 10000\n",
      "Epoch 21: 9523 / 10000\n",
      "Epoch 22: 9522 / 10000\n",
      "Epoch 23: 9518 / 10000\n",
      "Epoch 24: 9499 / 10000\n",
      "Epoch 25: 9510 / 10000\n",
      "Epoch 26: 9512 / 10000\n",
      "Epoch 27: 9543 / 10000\n",
      "Epoch 28: 9508 / 10000\n",
      "Epoch 29: 9523 / 10000\n"
     ]
    }
   ],
   "source": [
    "ann_mnist1.track_progress(train = mnist_train, mini_batch_size = 10, alpha = 3.0, epochs = 30, test = mnist_test)"
   ]
  },
  {
   "cell_type": "code",
   "execution_count": 41,
   "metadata": {},
   "outputs": [],
   "source": [
    "ann_mnisti = ArtificialNeuralNetwork([784, 30, 10], cross_entropy = True)"
   ]
  },
  {
   "cell_type": "code",
   "execution_count": 42,
   "metadata": {
    "scrolled": true
   },
   "outputs": [
    {
     "name": "stdout",
     "output_type": "stream",
     "text": [
      "Epoch 0: 9386 / 10000\n",
      "Epoch 1: 9488 / 10000\n",
      "Epoch 2: 9531 / 10000\n",
      "Epoch 3: 9560 / 10000\n",
      "Epoch 4: 9528 / 10000\n",
      "Epoch 5: 9545 / 10000\n",
      "Epoch 6: 9575 / 10000\n",
      "Epoch 7: 9573 / 10000\n",
      "Epoch 8: 9543 / 10000\n",
      "Epoch 9: 9619 / 10000\n",
      "Epoch 10: 9627 / 10000\n",
      "Epoch 11: 9596 / 10000\n",
      "Epoch 12: 9604 / 10000\n",
      "Epoch 13: 9599 / 10000\n",
      "Epoch 14: 9617 / 10000\n",
      "Epoch 15: 9607 / 10000\n",
      "Epoch 16: 9581 / 10000\n",
      "Epoch 17: 9594 / 10000\n",
      "Epoch 18: 9602 / 10000\n",
      "Epoch 19: 9565 / 10000\n",
      "Epoch 20: 9603 / 10000\n",
      "Epoch 21: 9603 / 10000\n",
      "Epoch 22: 9626 / 10000\n",
      "Epoch 23: 9620 / 10000\n",
      "Epoch 24: 9619 / 10000\n",
      "Epoch 25: 9626 / 10000\n",
      "Epoch 26: 9598 / 10000\n",
      "Epoch 27: 9610 / 10000\n",
      "Epoch 28: 9590 / 10000\n",
      "Epoch 29: 9581 / 10000\n"
     ]
    }
   ],
   "source": [
    "ann_mnisti.track_progress(train = mnist_train, mini_batch_size = 10, alpha = 0.5, epochs = 30, test = mnist_test)"
   ]
  },
  {
   "cell_type": "code",
   "execution_count": 39,
   "metadata": {},
   "outputs": [],
   "source": [
    "ann_mnistl = ArtificialNeuralNetwork([784, 100, 10], cross_entropy = True)"
   ]
  },
  {
   "cell_type": "code",
   "execution_count": 40,
   "metadata": {
    "scrolled": true
   },
   "outputs": [
    {
     "name": "stdout",
     "output_type": "stream",
     "text": [
      "Epoch 1: 9300 / 10000\n",
      "Epoch 2: 9487 / 10000\n",
      "Epoch 3: 9556 / 10000\n",
      "Epoch 4: 9612 / 10000\n",
      "Epoch 5: 9632 / 10000\n",
      "Epoch 6: 9676 / 10000\n",
      "Epoch 7: 9691 / 10000\n",
      "Epoch 8: 9705 / 10000\n",
      "Epoch 9: 9707 / 10000\n",
      "Epoch 10: 9728 / 10000\n",
      "Epoch 11: 9739 / 10000\n",
      "Epoch 12: 9741 / 10000\n",
      "Epoch 13: 9733 / 10000\n",
      "Epoch 14: 9741 / 10000\n",
      "Epoch 15: 9739 / 10000\n",
      "Epoch 16: 9761 / 10000\n",
      "Epoch 17: 9772 / 10000\n",
      "Epoch 18: 9765 / 10000\n",
      "Epoch 19: 9768 / 10000\n",
      "Epoch 20: 9766 / 10000\n",
      "Epoch 21: 9771 / 10000\n",
      "Epoch 22: 9773 / 10000\n",
      "Epoch 23: 9771 / 10000\n",
      "Epoch 24: 9783 / 10000\n",
      "Epoch 25: 9774 / 10000\n",
      "Epoch 26: 9787 / 10000\n",
      "Epoch 27: 9784 / 10000\n",
      "Epoch 28: 9784 / 10000\n",
      "Epoch 29: 9786 / 10000\n",
      "Epoch 30: 9780 / 10000\n",
      "Epoch 31: 9791 / 10000\n",
      "Epoch 32: 9788 / 10000\n",
      "Epoch 33: 9796 / 10000\n",
      "Epoch 34: 9789 / 10000\n",
      "Epoch 35: 9789 / 10000\n",
      "Epoch 36: 9786 / 10000\n",
      "Epoch 37: 9797 / 10000\n",
      "Epoch 38: 9792 / 10000\n",
      "Epoch 39: 9795 / 10000\n",
      "Epoch 40: 9792 / 10000\n",
      "Epoch 41: 9788 / 10000\n",
      "Epoch 42: 9794 / 10000\n",
      "Epoch 43: 9799 / 10000\n",
      "Epoch 44: 9790 / 10000\n",
      "Epoch 45: 9800 / 10000\n",
      "Epoch 46: 9798 / 10000\n",
      "Epoch 47: 9789 / 10000\n",
      "Epoch 48: 9793 / 10000\n",
      "Epoch 49: 9799 / 10000\n",
      "Epoch 50: 9787 / 10000\n",
      "Epoch 51: 9799 / 10000\n",
      "Epoch 52: 9782 / 10000\n",
      "Epoch 53: 9793 / 10000\n",
      "Epoch 54: 9804 / 10000\n",
      "Epoch 55: 9796 / 10000\n",
      "Epoch 56: 9803 / 10000\n",
      "Epoch 57: 9796 / 10000\n",
      "Epoch 58: 9804 / 10000\n",
      "Epoch 59: 9799 / 10000\n",
      "Epoch 60: 9803 / 10000\n"
     ]
    }
   ],
   "source": [
    "ann_mnistl.track_progress(train = mnist_train, mini_batch_size = 10, alpha = 0.1, epochs = 60, lmbda = 5.0, test = mnist_test)"
   ]
  },
  {
   "cell_type": "markdown",
   "metadata": {},
   "source": [
    "## max 98.04% accuracy with cross-entropy, weight-initialization, L2 regularization"
   ]
  },
  {
   "cell_type": "code",
   "execution_count": null,
   "metadata": {},
   "outputs": [],
   "source": []
  },
  {
   "cell_type": "code",
   "execution_count": null,
   "metadata": {},
   "outputs": [],
   "source": []
  },
  {
   "cell_type": "code",
   "execution_count": null,
   "metadata": {},
   "outputs": [],
   "source": []
  },
  {
   "cell_type": "code",
   "execution_count": null,
   "metadata": {},
   "outputs": [],
   "source": []
  },
  {
   "cell_type": "code",
   "execution_count": null,
   "metadata": {},
   "outputs": [],
   "source": []
  },
  {
   "cell_type": "code",
   "execution_count": null,
   "metadata": {},
   "outputs": [],
   "source": []
  }
 ],
 "metadata": {
  "kernelspec": {
   "display_name": "Python 3",
   "language": "python",
   "name": "python3"
  },
  "language_info": {
   "codemirror_mode": {
    "name": "ipython",
    "version": 3
   },
   "file_extension": ".py",
   "mimetype": "text/x-python",
   "name": "python",
   "nbconvert_exporter": "python",
   "pygments_lexer": "ipython3",
   "version": "3.7.5"
  }
 },
 "nbformat": 4,
 "nbformat_minor": 2
}
